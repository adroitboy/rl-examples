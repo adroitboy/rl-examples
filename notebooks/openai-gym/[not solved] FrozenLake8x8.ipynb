{
 "cells": [
  {
   "cell_type": "markdown",
   "metadata": {},
   "source": [
    "# FrozenLake 8x8 - QTable\n",
    "\n",
    "**(This doesn't work yet)**\n",
    "\n",
    "This environment has 256 states. Because of this E-Greedy Agent takes a lot of episoded to learn the correct policy.\n",
    "To speed it up in this notebook we use UCB Agent. Based on Upper-Confidence-Bound Action Selection.\n",
    "For more information check [Sutton book](http://incompleteideas.net/sutton/book/bookdraft2016sep.pdf).\n",
    "\n",
    "For this tutorial we will use [Frozen Lake 8x8](https://gym.openai.com/envs/FrozenLake8x8-v0).\n",
    "\n",
    "FrozenLake is solved if moving average over window size 100 is >= 0.99"
   ]
  },
  {
   "cell_type": "code",
   "execution_count": 5,
   "metadata": {
    "collapsed": false
   },
   "outputs": [],
   "source": [
    "import logging\n",
    "import numpy as np\n",
    "import matplotlib.pyplot as plt\n",
    "import gym\n",
    "from gym import wrappers\n",
    "\n",
    "logging.getLogger('gym').setLevel(logging.WARNING)"
   ]
  },
  {
   "cell_type": "markdown",
   "metadata": {},
   "source": [
    "## Helper functions"
   ]
  },
  {
   "cell_type": "code",
   "execution_count": 6,
   "metadata": {
    "collapsed": false
   },
   "outputs": [],
   "source": [
    "def moving_average(xs, n=100):\n",
    "    ret = np.cumsum(xs, dtype=float)\n",
    "    ret[n:] = ret[n:] - ret[:-n]\n",
    "    return ret[n - 1:] / n\n",
    "\n",
    "def find_index(xs, v):\n",
    "    \"\"\"Find index of the first value equal or greater then v\"\"\"\n",
    "    for i in range(len(xs)):\n",
    "        if xs[i] >= v:\n",
    "            return i\n",
    "    return -1"
   ]
  },
  {
   "cell_type": "markdown",
   "metadata": {},
   "source": [
    "## UCB Table Agent\n",
    "\n",
    "The UCB tries to estimate the value function and variance for each action. \n",
    "Then action is selected based on both value and variance.\n",
    "\n",
    "The formula to select action:\n",
    "\n",
    "$$ A_t = argmax_{a} \\left[ Q_t(a) + c \\sqrt{ \\frac{log(t)}{N_t(a)} } \\right] $$\n",
    "\n",
    "Where:\n",
    "  * $\\sqrt{ \\frac{log(t)}{N_t(a)} }$ - Is variance (uncertainty) of action value\n",
    "  * $N_t(a)$ - How many times this action was selected\n",
    "  * c - controls the degree of exploration\n",
    "  \n",
    "The formula to learn:\n",
    "\n",
    "$$ Q'_{a} = \\frac{Q_{a}*(n-1) + r}{n} $$"
   ]
  },
  {
   "cell_type": "code",
   "execution_count": 7,
   "metadata": {
    "collapsed": false
   },
   "outputs": [],
   "source": [
    "class QTableAgent:\n",
    "    \n",
    "    def __init__(self, num_states, num_actions, gamma, learning_rate):\n",
    "        self.qtable = np.zeros([num_states, num_actions])\n",
    "        self.num_actions = num_actions\n",
    "        self.greedy_threshold = 0.9\n",
    "        self.gamma = gamma\n",
    "        self.alpha = learning_rate\n",
    "    \n",
    "    \n",
    "    def choose_action(self, state, step):\n",
    "        \"\"\" Choose best action (exploit) with the probability **greedy_threshold**\n",
    "            Otherwise choose random action.\n",
    "            The threshold is bigger for later episodes\n",
    "        \"\"\"\n",
    "        if np.random.rand() < self.greedy_threshold * (step/1000.):\n",
    "            return np.argmax(self.qtable[state,:])\n",
    "        else:\n",
    "            return np.random.choice(range(self.num_actions))\n",
    "    \n",
    "    \n",
    "    def learn(self, state, action, reward, next_state):\n",
    "        \"\"\"Update state using Bellman equation\"\"\"\n",
    "        r2 = reward + self.gamma * np.max(self.qtable[next_state,:])\n",
    "        self.qtable[state, action] += self.alpha * (r2-self.qtable[state, action])"
   ]
  },
  {
   "cell_type": "markdown",
   "metadata": {},
   "source": [
    "## Train agent\n",
    "\n",
    "Messing with the rewards:\n",
    "\n",
    "  * If we don't change reward then the probability of randomly finding solution is very low. \n",
    "    And the QTable learning will be very slow. And since there are 256 states, the propagation of\n",
    "    value is very slow\n",
    "  * By modifying reward we can try to at least try to not fall into the hole"
   ]
  },
  {
   "cell_type": "code",
   "execution_count": 16,
   "metadata": {
    "collapsed": false
   },
   "outputs": [
    {
     "name": "stdout",
     "output_type": "stream",
     "text": [
      "Max score: 0.440000\n"
     ]
    },
    {
     "data": {
      "image/png": "[encoded data removed]",
      "text/plain": [
       "<matplotlib.figure.Figure at 0x7f9a458994e0>"
      ]
     },
     "metadata": {},
     "output_type": "display_data"
    }
   ],
   "source": [
    "# Learning parameters\n",
    "learning_rate = 0.8\n",
    "gamma = 0.95\n",
    "num_episodes = int(1e5)\n",
    "solved_score = 0.99\n",
    "\n",
    "# Environment\n",
    "env = gym.make('FrozenLake8x8-v0')\n",
    "# env = wrappers.Monitor(env, '../../../logs/qtable', force=True)\n",
    "\n",
    "# Agent\n",
    "agent = QTableAgent(env.observation_space.n, env.action_space.n, gamma, learning_rate)\n",
    "\n",
    "# Learn Q-Table\n",
    "rewards = []\n",
    "for episode in range(num_episodes):\n",
    "    s = env.reset()\n",
    "    total_reward = 0\n",
    "    for j in range(1000):\n",
    "        a = agent.choose_action(s, episode)\n",
    "        s2, reward, done, _ = env.step(a)        \n",
    "        if done:\n",
    "            if reward < 1:\n",
    "                agent_reward = -100\n",
    "            else:\n",
    "                agent_reward = 100\n",
    "        else:\n",
    "            agent_reward = reward\n",
    "        agent.learn(s, a, agent_reward, s2)\n",
    "        s = s2\n",
    "        total_reward += reward\n",
    "        if done:\n",
    "            break\n",
    "    rewards.append(total_reward)\n",
    "    \n",
    "env.close()    \n",
    "\n",
    "# Show summary\n",
    "averaged_rewards = moving_average(rewards)    \n",
    "idx = find_index(averaged_rewards, solved_score)\n",
    "print('Max score: %f' % np.max(averaged_rewards))\n",
    "if idx >= 0:\n",
    "    print('Solved after {} episodes'.format(idx+1))\n",
    "\n",
    "plt.plot(averaged_rewards)\n",
    "plt.show()"
   ]
  }
 ],
 "metadata": {
  "anaconda-cloud": {},
  "kernelspec": {
   "display_name": "Python 3",
   "language": "python",
   "name": "python3"
  },
  "language_info": {
   "codemirror_mode": {
    "name": "ipython",
    "version": 3
   },
   "file_extension": ".py",
   "mimetype": "text/x-python",
   "name": "python",
   "nbconvert_exporter": "python",
   "pygments_lexer": "ipython3",
   "version": "3.6.0"
  }
 },
 "nbformat": 4,
 "nbformat_minor": 1
}
