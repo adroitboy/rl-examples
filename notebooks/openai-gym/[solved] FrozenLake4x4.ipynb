{
 "cells": [
  {
   "cell_type": "markdown",
   "metadata": {},
   "source": [
    "# FrozenLake\n",
    "\n",
    "Here we use [Frozen Lake](https://gym.openai.com/envs/FrozenLake-v0).\n",
    "\n",
    "```\n",
    "SFFF       (S: starting point, safe)\n",
    "FHFH       (F: frozen surface, safe)\n",
    "FFFH       (H: hole, fall to your doom)\n",
    "HFFG       (G: goal, where the frisbee is located)\n",
    "```\n",
    "\n",
    "This is a stochastic environment, because wind can change the state we will end up.\n",
    "\n",
    "FrozenLake is solved if moving average over window size 100 is >= **0.78**\n",
    "\n",
    "\n",
    "### Contents\n",
    "\n",
    " * QTable\n",
    " * QNetwork"
   ]
  },
  {
   "cell_type": "code",
   "execution_count": 1,
   "metadata": {},
   "outputs": [],
   "source": [
    "import logging\n",
    "import numpy as np\n",
    "import tensorflow as tf\n",
    "import matplotlib.pyplot as plt\n",
    "import gym\n",
    "from gym import wrappers\n",
    "\n",
    "logging.getLogger('gym').setLevel(logging.WARNING)"
   ]
  },
  {
   "cell_type": "markdown",
   "metadata": {},
   "source": [
    "## Helper functions"
   ]
  },
  {
   "cell_type": "code",
   "execution_count": 2,
   "metadata": {},
   "outputs": [],
   "source": [
    "def moving_average(xs, n=100):\n",
    "    ret = np.cumsum(xs, dtype=float)\n",
    "    ret[n:] = ret[n:] - ret[:-n]\n",
    "    return ret[n - 1:] / n\n",
    "\n",
    "def find_index(xs, v):\n",
    "    \"\"\"Find index of the first value equal or greater then v\"\"\"\n",
    "    for i in range(len(xs)):\n",
    "        if xs[i] >= v:\n",
    "            return i\n",
    "    return -1"
   ]
  },
  {
   "cell_type": "markdown",
   "metadata": {},
   "source": [
    "# QTable Agent\n",
    " \n",
    "\n",
    "Here we will implement Learning Agent using Q Learning function with Q Table for storing rewards.\n",
    "\n",
    "This agent uses [Bellman equation](https://en.wikipedia.org/wiki/Bellman_equation) to improve Q Table\n",
    "\n",
    "$$Q(s,a) = r + \\gamma (max_a(Q(s', a'))$$\n",
    "\n",
    "The update step uses the formula:\n",
    "\n",
    "$$Q(s,a) = Q(s,a) + \\alpha (r + \\gamma (max_a(Q(s', a')) - Q(s,a))$$"
   ]
  },
  {
   "cell_type": "code",
   "execution_count": 3,
   "metadata": {},
   "outputs": [],
   "source": [
    "class QTableAgent:\n",
    "    \n",
    "    def __init__(self, num_states, num_actions, gamma, learning_rate):\n",
    "        self.qtable = np.zeros([num_states, num_actions])\n",
    "        self.num_actions = num_actions\n",
    "        self.greedy_threshold = 0.9\n",
    "        self.gamma = gamma\n",
    "        self.alpha = learning_rate\n",
    "    \n",
    "    \n",
    "    def choose_action(self, state, step):\n",
    "        \"\"\" Choose best action (exploit) with the probability **greedy_threshold**\n",
    "            Otherwise choose random action.\n",
    "            The threshold is bigger for later episodes\n",
    "        \"\"\"\n",
    "        if np.random.rand() < self.greedy_threshold * (step/1000.):\n",
    "            return np.argmax(self.qtable[state,:])\n",
    "        else:\n",
    "            return np.random.choice(range(self.num_actions))\n",
    "    \n",
    "    \n",
    "    def learn(self, state, action, reward, next_state):\n",
    "        \"\"\"Update state using Bellman equation\"\"\"\n",
    "        r2 = reward + self.gamma * np.max(self.qtable[next_state,:])\n",
    "        self.qtable[state, action] += self.alpha * (r2-self.qtable[state, action])"
   ]
  },
  {
   "cell_type": "markdown",
   "metadata": {},
   "source": [
    "## Evaluate agent"
   ]
  },
  {
   "cell_type": "code",
   "execution_count": 5,
   "metadata": {},
   "outputs": [
    {
     "name": "stdout",
     "output_type": "stream",
     "text": [
      "Solved after 1592 episodes\n"
     ]
    },
    {
     "data": {
      "image/png": "[encoded data removed]",
      "text/plain": [
       "<matplotlib.figure.Figure at 0x7f9598a97da0>"
      ]
     },
     "metadata": {},
     "output_type": "display_data"
    }
   ],
   "source": [
    "# Learning parameters\n",
    "learning_rate = 0.8\n",
    "gamma = 0.95\n",
    "num_episodes = 5000\n",
    "solved_score = 0.78\n",
    "\n",
    "# Environment\n",
    "env = gym.make('FrozenLake-v0')\n",
    "# env = wrappers.Monitor(env, '../../../logs/qtable', force=True)\n",
    "\n",
    "# Agent\n",
    "agent = QTableAgent(env.observation_space.n, env.action_space.n, gamma, learning_rate)\n",
    "\n",
    "# Learn Q-Table\n",
    "rewards = []\n",
    "for episode in range(num_episodes):\n",
    "    s = env.reset()\n",
    "    total_reward = 0\n",
    "    for j in range(1000):\n",
    "        a = agent.choose_action(s, episode)\n",
    "        s2, reward, done, _ = env.step(a)\n",
    "        agent.learn(s, a, reward, s2)\n",
    "        s = s2\n",
    "        total_reward += reward\n",
    "        if done:\n",
    "            break\n",
    "    rewards.append(total_reward)\n",
    "    \n",
    "env.close()    \n",
    "\n",
    "# Show summary\n",
    "averaged_rewards = moving_average(rewards)    \n",
    "idx = find_index(averaged_rewards, solved_score)\n",
    "if idx >= 0:\n",
    "    print('Solved after {} episodes'.format(idx+1))\n",
    "\n",
    "plt.plot(averaged_rewards)\n",
    "plt.show()"
   ]
  },
  {
   "cell_type": "markdown",
   "metadata": {},
   "source": [
    "# QNetwork Agent\n",
    "\n",
    "This agent uses ANN with single layer.\n",
    "The loss function is defined as:\n",
    "\n",
    "$$\\sum_{n=1}^{\\infty}(Q_{next}-Q)^{2}$$"
   ]
  },
  {
   "cell_type": "code",
   "execution_count": 6,
   "metadata": {},
   "outputs": [],
   "source": [
    "class QNetworkAgent:\n",
    "    \n",
    "    def __init__(self, num_states, num_actions, learning_rate, gamma):\n",
    "        self.epsilon = 0.99\n",
    "        self.gamma = gamma\n",
    "        self.num_states = num_states\n",
    "        self.num_actions = num_actions\n",
    "        # Placeholders for state\n",
    "        self.state = tf.placeholder(shape=[1, num_states], dtype=tf.float32)\n",
    "        # Calculate Q values for given state\n",
    "        self.W = tf.Variable(tf.random_uniform([num_states, num_actions], 0, 0.01))\n",
    "        self.Q =  tf.matmul(self.state, self.W)\n",
    "        # Select action with the highest score\n",
    "        self.action_op = tf.argmax(self.Q, axis=1)\n",
    "    \n",
    "        # Prepare loss function\n",
    "        # Placeholder for expected rewards\n",
    "        self.Qnext = tf.placeholder(shape=[1, num_actions], dtype=tf.float32)\n",
    "        self.loss = tf.reduce_sum(tf.square(self.Qnext - self.Q))\n",
    "        self.train_op = tf.train.GradientDescentOptimizer(learning_rate).minimize(self.loss)\n",
    "        # Prepare session\n",
    "        self.sess = tf.Session()\n",
    "        self.sess.run(tf.global_variables_initializer())\n",
    "    \n",
    "    \n",
    "    def choose_action(self, state, progress):\n",
    "        if np.random.rand() < self.epsilon * progress:\n",
    "            s = self._encode_state(state)\n",
    "            return self.sess.run(self.action_op, feed_dict={self.state: s})[0]\n",
    "        else:\n",
    "            return np.random.choice(range(self.num_actions))\n",
    "    \n",
    "    \n",
    "    def learn(self, state, action, reward, next_state):\n",
    "        s1 = self._encode_state(state)\n",
    "        s2 = self._encode_state(next_state)\n",
    "        Q_val = self.sess.run(self.Q, feed_dict={self.state: s1})\n",
    "        Qnext_val = self.sess.run(self.Q, feed_dict={self.state: s2})[0]\n",
    "        gradient = abs(Q_val[0, action] - reward + self.gamma * np.max(Qnext_val))\n",
    "        Q_val[0, action] = reward + self.gamma * np.max(Qnext_val)\n",
    "        self.sess.run(self.train_op, feed_dict={self.state: s1, self.Qnext: Q_val})\n",
    "        return gradient\n",
    "    \n",
    "    \n",
    "    def close(self):\n",
    "        \"\"\"It is better to close session.\"\"\"\n",
    "        self.sess.close()\n",
    "        \n",
    "        \n",
    "    def _encode_state(self, state):\n",
    "        \"\"\"1-hot encoding for state\"\"\"\n",
    "        return np.identity(self.num_states)[state:state+1]"
   ]
  },
  {
   "cell_type": "markdown",
   "metadata": {},
   "source": [
    "## Evaluate agent"
   ]
  },
  {
   "cell_type": "code",
   "execution_count": 7,
   "metadata": {},
   "outputs": [
    {
     "name": "stdout",
     "output_type": "stream",
     "text": [
      "Solved after 8455 episodes\n"
     ]
    },
    {
     "data": {
      "image/png": "[encoded data removed]",
      "text/plain": [
       "<matplotlib.figure.Figure at 0x7f958840e978>"
      ]
     },
     "metadata": {},
     "output_type": "display_data"
    }
   ],
   "source": [
    "# Learning parameters\n",
    "learning_rate = 0.1\n",
    "gamma = 0.99\n",
    "num_episodes = 10000\n",
    "solved_score = 0.78\n",
    "\n",
    "# Environment\n",
    "env = gym.make('FrozenLake-v0')\n",
    "\n",
    "# Agent\n",
    "agent = QNetworkAgent(env.observation_space.n, env.action_space.n, learning_rate, gamma)\n",
    "\n",
    "# Learn Q-Table\n",
    "rewards = []\n",
    "for episode in range(num_episodes):\n",
    "    s = env.reset()\n",
    "    total_reward = 0\n",
    "    for j in range(1000):\n",
    "        a = agent.choose_action(s, 1.2*episode/float(num_episodes))\n",
    "        s2, reward, done, _ = env.step(a)\n",
    "        agent.learn(s, a, reward, s2)\n",
    "        s = s2\n",
    "        total_reward += reward\n",
    "        if done:\n",
    "            breaks\n",
    "    rewards.append(total_reward)\n",
    "    \n",
    "env.close()    \n",
    "agent.close()\n",
    "\n",
    "# Show summary\n",
    "averaged_rewards = moving_average(rewards)    \n",
    "idx = find_index(averaged_rewards, solved_score)\n",
    "if idx >= 0:\n",
    "    print('Solved after {} episodes'.format(idx+1))\n",
    "\n",
    "plt.plot(averaged_rewards)\n",
    "plt.show()"
   ]
  }
 ],
 "metadata": {
  "anaconda-cloud": {},
  "kernelspec": {
   "display_name": "Python 3",
   "language": "python",
   "name": "python3"
  },
  "language_info": {
   "codemirror_mode": {
    "name": "ipython",
    "version": 3
   },
   "file_extension": ".py",
   "mimetype": "text/x-python",
   "name": "python",
   "nbconvert_exporter": "python",
   "pygments_lexer": "ipython3",
   "version": "3.6.3"
  }
 },
 "nbformat": 4,
 "nbformat_minor": 1
}
