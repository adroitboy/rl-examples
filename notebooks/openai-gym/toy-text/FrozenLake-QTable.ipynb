{
 "cells": [
  {
   "cell_type": "markdown",
   "metadata": {},
   "source": [
    "# FrozenLake - QLearning using table\n",
    "\n",
    "In QLearning we build table which stores future rewards for each states and actions.\n",
    "In this notebook we will implement Learning Agent using Q Learning function with Q Table for storing rewards.\n",
    "\n",
    "For this tutorial we will use [Frozen Lake](https://gym.openai.com/envs/FrozenLake-v0).\n",
    "\n",
    "```\n",
    "SFFF       (S: starting point, safe)\n",
    "FHFH       (F: frozen surface, safe)\n",
    "FFFH       (H: hole, fall to your doom)\n",
    "HFFG       (G: goal, where the frisbee is located)\n",
    "```\n",
    "\n",
    "This is a stochastic environment, because wind can change the state we will end up."
   ]
  },
  {
   "cell_type": "code",
   "execution_count": 1,
   "metadata": {
    "collapsed": false
   },
   "outputs": [],
   "source": [
    "import logging\n",
    "import numpy as np\n",
    "import matplotlib.pyplot as plt\n",
    "import gym\n",
    "from gym import wrappers\n",
    "\n",
    "logging.getLogger('gym').setLevel(logging.WARNING)"
   ]
  },
  {
   "cell_type": "markdown",
   "metadata": {},
   "source": [
    "## Helper functions"
   ]
  },
  {
   "cell_type": "code",
   "execution_count": 2,
   "metadata": {
    "collapsed": false
   },
   "outputs": [],
   "source": [
    "# FrozenLake is solved if moving average over window size 100 is >= 0.78\n",
    "def moving_average(xs, n=100):\n",
    "    ret = np.cumsum(xs, dtype=float)\n",
    "    ret[n:] = ret[n:] - ret[:-n]\n",
    "    return ret[n - 1:] / n\n",
    "\n",
    "def find_index(xs, v):\n",
    "    \"\"\"Find index of the first value equal or greater then v\"\"\"\n",
    "    for i in range(len(xs)):\n",
    "        if xs[i] >= v:\n",
    "            return i\n",
    "    return -1"
   ]
  },
  {
   "cell_type": "markdown",
   "metadata": {},
   "source": [
    "## Q Table Agent\n",
    "\n",
    "This agent uses [Bellman equation](https://en.wikipedia.org/wiki/Bellman_equation) to improve Q Table\n",
    "\n",
    "$$Q(s,a) = r + \\gamma (max_a(Q(s', a'))$$\n",
    "\n",
    "The update step uses the formula:\n",
    "\n",
    "$$Q(s,a) = Q(s,a) + \\alpha (r + \\gamma (max_a(Q(s', a')) - Q(s,a))$$"
   ]
  },
  {
   "cell_type": "code",
   "execution_count": 3,
   "metadata": {
    "collapsed": true
   },
   "outputs": [],
   "source": [
    "class QTableAgent:\n",
    "    \n",
    "    def __init__(self, num_states, num_actions, gamma, learning_rate):\n",
    "        self.qtable = np.zeros([num_states, num_actions])\n",
    "        self.num_actions = num_actions\n",
    "        self.greedy_threshold = 0.9\n",
    "        self.gamma = gamma\n",
    "        self.alpha = learning_rate\n",
    "    \n",
    "    \n",
    "    def choose_action(self, state, step):\n",
    "        \"\"\" Choose best action (exploit) with the probability **greedy_threshold**\n",
    "            Otherwise choose random action.\n",
    "            The threshold is bigger for later episodes\n",
    "        \"\"\"\n",
    "        if np.random.rand() < self.greedy_threshold * (step/1000.):\n",
    "            return np.argmax(self.qtable[state,:])\n",
    "        else:\n",
    "            return np.random.choice(range(self.num_actions))\n",
    "    \n",
    "    \n",
    "    def learn(self, state, action, reward, next_state):\n",
    "        \"\"\"Update state using Bellman equation\"\"\"\n",
    "        r2 = reward + self.gamma * np.max(self.qtable[next_state,:])\n",
    "        self.qtable[state, action] += self.alpha * (r2-self.qtable[state, action])"
   ]
  },
  {
   "cell_type": "markdown",
   "metadata": {},
   "source": [
    "## Train agent"
   ]
  },
  {
   "cell_type": "code",
   "execution_count": 5,
   "metadata": {
    "collapsed": false
   },
   "outputs": [
    {
     "name": "stdout",
     "output_type": "stream",
     "text": [
      "Solved after 1141 episodes\n"
     ]
    },
    {
     "data": {
      "image/png": "[encoded data removed]",
      "text/plain": [
       "<matplotlib.figure.Figure at 0x7f4340b99cf8>"
      ]
     },
     "metadata": {},
     "output_type": "display_data"
    },
    {
     "name": "stdout",
     "output_type": "stream",
     "text": [
      "[[  4.66755008e-03   1.76305228e-01   4.62900827e-03   3.82962030e-03]\n",
      " [  1.06656381e-03   5.86622671e-04   7.34755883e-05   8.07090126e-02]\n",
      " [  3.94009247e-04   6.97297417e-04   3.43408003e-04   2.43476088e-02]\n",
      " [  1.00578655e-03   2.39559634e-04   2.61124337e-04   1.40873770e-02]\n",
      " [  3.06932811e-01   2.14709446e-03   4.41211393e-04   2.59609522e-03]\n",
      " [  0.00000000e+00   0.00000000e+00   0.00000000e+00   0.00000000e+00]\n",
      " [  1.58852212e-06   2.40932153e-09   1.62035145e-02   8.64790311e-07]\n",
      " [  0.00000000e+00   0.00000000e+00   0.00000000e+00   0.00000000e+00]\n",
      " [  3.26587886e-03   3.49505224e-03   2.54819107e-03   3.42766926e-01]\n",
      " [  3.11251907e-03   2.94460320e-01   2.53536028e-03   2.90896986e-03]\n",
      " [  8.00076391e-02   4.03134529e-04   3.67177630e-04   1.82367254e-04]\n",
      " [  0.00000000e+00   0.00000000e+00   0.00000000e+00   0.00000000e+00]\n",
      " [  0.00000000e+00   0.00000000e+00   0.00000000e+00   0.00000000e+00]\n",
      " [  3.68102921e-03   5.46519058e-03   4.88371563e-01   5.47436860e-03]\n",
      " [  5.68763934e-02   7.58650582e-01   5.94627635e-02   2.75621399e-02]\n",
      " [  0.00000000e+00   0.00000000e+00   0.00000000e+00   0.00000000e+00]]\n"
     ]
    }
   ],
   "source": [
    "# Learning parameters\n",
    "learning_rate = 0.8\n",
    "gamma = 0.95\n",
    "num_episodes = 5000\n",
    "solved_score = 0.78\n",
    "\n",
    "# Environment\n",
    "env = gym.make('FrozenLake-v0')\n",
    "# env = wrappers.Monitor(env, '../../../logs/qtable', force=True)\n",
    "\n",
    "# Agent\n",
    "agent = QTableAgent(env.observation_space.n, env.action_space.n, gamma, learning_rate)\n",
    "\n",
    "# Learn Q-Table\n",
    "rewards = []\n",
    "for episode in range(num_episodes):\n",
    "    s = env.reset()\n",
    "    total_reward = 0\n",
    "    for j in range(1000):\n",
    "        a = agent.choose_action(s, episode)\n",
    "        s2, reward, done, _ = env.step(a)\n",
    "        agent.learn(s, a, reward, s2)\n",
    "        s = s2\n",
    "        total_reward += reward\n",
    "        if done:\n",
    "            break\n",
    "    rewards.append(total_reward)\n",
    "    \n",
    "env.close()    \n",
    "\n",
    "# Show summary\n",
    "averaged_rewards = moving_average(rewards)    \n",
    "idx = find_index(averaged_rewards, solved_score)\n",
    "if idx >= 0:\n",
    "    print('Solved after {} episodes'.format(idx+1))\n",
    "\n",
    "plt.plot(averaged_rewards)\n",
    "plt.show()\n",
    "print(agent.qtable)"
   ]
  }
 ],
 "metadata": {
  "anaconda-cloud": {},
  "kernelspec": {
   "display_name": "Python 3",
   "language": "python",
   "name": "python3"
  },
  "language_info": {
   "codemirror_mode": {
    "name": "ipython",
    "version": 3
   },
   "file_extension": ".py",
   "mimetype": "text/x-python",
   "name": "python",
   "nbconvert_exporter": "python",
   "pygments_lexer": "ipython3",
   "version": "3.6.0"
  }
 },
 "nbformat": 4,
 "nbformat_minor": 1
}
