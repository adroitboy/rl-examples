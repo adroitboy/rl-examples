{
 "cells": [
  {
   "cell_type": "markdown",
   "metadata": {
    "collapsed": true
   },
   "source": [
    "# Monte Carlo\n",
    "\n",
    "### Contents\n",
    "\n",
    " * Prediction"
   ]
  },
  {
   "cell_type": "code",
   "execution_count": 1,
   "metadata": {},
   "outputs": [],
   "source": [
    "import numpy as np\n",
    "import matplotlib.pyplot as plt\n",
    "import seaborn as sns\n",
    "from matplotlib import rcParams\n",
    "\n",
    "sns.set()"
   ]
  },
  {
   "cell_type": "markdown",
   "metadata": {},
   "source": [
    "# Prediction (Policy evaluation)\n",
    "\n",
    "MC works for episodic learning. For each episode:\n",
    " * Track states visited in this episodes\n",
    " * Calculate the return $G_t$ for this state (using the discount $\\gamma$)\n",
    " * the value function for state S is avarage return value\n",
    " \n",
    "The continuous update rule is:\n",
    "\n",
    "$$V(S_t) \\leftarrow V(S_t) + \\frac{1}{N(S_t)} (G_t-V(S_t))$$\n",
    "\n",
    "This can be generalized to:\n",
    "\n",
    "$$V(S_t) \\leftarrow V(S_t) + \\alpha (G_t-V(S_t))$$\n",
    "\n",
    "This will allow to forget old episodes (Good for most typical non-stationary environments)."
   ]
  },
  {
   "cell_type": "code",
   "execution_count": 2,
   "metadata": {},
   "outputs": [],
   "source": [
    "# Example 5.1 Blackjack"
   ]
  }
 ],
 "metadata": {
  "anaconda-cloud": {},
  "kernelspec": {
   "display_name": "Python 3",
   "language": "python",
   "name": "python3"
  },
  "language_info": {
   "codemirror_mode": {
    "name": "ipython",
    "version": 3
   },
   "file_extension": ".py",
   "mimetype": "text/x-python",
   "name": "python",
   "nbconvert_exporter": "python",
   "pygments_lexer": "ipython3",
   "version": "3.6.3"
  }
 },
 "nbformat": 4,
 "nbformat_minor": 1
}
