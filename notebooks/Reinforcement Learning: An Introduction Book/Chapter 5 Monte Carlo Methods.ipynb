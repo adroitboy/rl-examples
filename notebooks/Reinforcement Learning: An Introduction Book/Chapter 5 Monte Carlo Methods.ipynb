{
 "cells": [
  {
   "cell_type": "markdown",
   "metadata": {
    "collapsed": true
   },
   "source": [
    "# Monte Carlo\n",
    "\n",
    "### Contents\n",
    "\n",
    " * Prediction"
   ]
  },
  {
   "cell_type": "code",
   "execution_count": 1,
   "metadata": {},
   "outputs": [],
   "source": [
    "import numpy as np\n",
    "import random\n",
    "import matplotlib.pyplot as plt\n",
    "import seaborn as sns\n",
    "from matplotlib import rcParams\n",
    "\n",
    "sns.set()"
   ]
  },
  {
   "cell_type": "markdown",
   "metadata": {},
   "source": [
    "# Prediction (Policy evaluation)\n",
    "\n",
    "MC works for episodic learning. For each episode:\n",
    " * Track states visited in this episodes\n",
    " * Calculate the return $G_t$ for this state (using the discount $\\gamma$)\n",
    " * the value function for state S is avarage return value\n",
    " \n",
    "The continuous update rule is:\n",
    "\n",
    "$$V(S_t) \\leftarrow V(S_t) + \\frac{1}{N(S_t)} (G_t-V(S_t))$$\n",
    "\n",
    "This can be generalized to:\n",
    "\n",
    "$$V(S_t) \\leftarrow V(S_t) + \\alpha (G_t-V(S_t))$$\n",
    "\n",
    "This will allow to forget old episodes (Good for most typical non-stationary environments)."
   ]
  },
  {
   "cell_type": "markdown",
   "metadata": {},
   "source": [
    "## Example 5.1 Blackjack\n",
    "\n",
    "Rewards:\n",
    " * +1 - winning\n",
    " * 0  - draw\n",
    " * -1 - loosing\n",
    " * 0 - taking card\n",
    " \n",
    "Helper functions "
   ]
  },
  {
   "cell_type": "code",
   "execution_count": 7,
   "metadata": {},
   "outputs": [],
   "source": [
    "def random_card():\n",
    "    \"\"\" Random card generator\n",
    "        1 = Ace\n",
    "    \"\"\"\n",
    "    return random.randint(1,13)\n",
    "\n",
    "def plot_values(vs):\n",
    "    \"\"\"Plot value function\"\"\"\n",
    "    ax = sns.heatmap(vs, cmap=\"bwr\")\n",
    "    ax.invert_yaxis()\n",
    "    plt.show()\n",
    "\n",
    "def random_state():\n",
    "    \"\"\"Random starting state\"\"\"\n",
    "    return (random.randint(1,10), random.randint(12,21))\n",
    "\n",
    "def play_episode(state):\n",
    "    \"\"\" Play episode from given state\n",
    "        Return trance and score\n",
    "    \"\"\"\n",
    "    values = state[1]\n",
    "    trace = [values-12]\n",
    "    # Take cards while sum less then 20\n",
    "    while(values < 20):\n",
    "        values += random_card()\n",
    "        if values < 22:\n",
    "            trace.append(values-12)\n",
    "    if values < 22:\n",
    "        # player has 20 or 21\n",
    "        v2 = state[0]\n",
    "        while v2 < values:\n",
    "            v2 += random_card()\n",
    "        if v2 == values:\n",
    "            return (0, trace)\n",
    "        elif v2 > values and v2 < 22:\n",
    "            return (-1, trace)\n",
    "        else:\n",
    "            return (1, trace)            \n",
    "    else:\n",
    "        return (-1, trace)     "
   ]
  },
  {
   "cell_type": "markdown",
   "metadata": {},
   "source": [
    "Show value function after 10K episodes:"
   ]
  },
  {
   "cell_type": "code",
   "execution_count": 8,
   "metadata": {},
   "outputs": [
    {
     "data": {
      "image/png": "[encoded data removed]",
      "text/plain": [
       "<matplotlib.figure.Figure at 0x7fb89e374a58>"
      ]
     },
     "metadata": {},
     "output_type": "display_data"
    }
   ],
   "source": [
    "# Estimate value function for policy:\n",
    "#  Take card if less then 20\n",
    "V = np.zeros((10, 10))\n",
    "alpha = 0.1\n",
    "for _ in range(10**4):\n",
    "    start_state = random_state()\n",
    "    r, states = play_episode(start_state)\n",
    "    d = start_state[0]-1\n",
    "    for s in states:\n",
    "        V[s,d] = V[s,d] + alpha * (r - V[s,d])\n",
    "\n",
    "plot_values(V)   "
   ]
  },
  {
   "cell_type": "markdown",
   "metadata": {},
   "source": [
    "After 1M episodes"
   ]
  },
  {
   "cell_type": "code",
   "execution_count": 13,
   "metadata": {},
   "outputs": [
    {
     "data": {
      "image/png": "[encoded data removed]",
      "text/plain": [
       "<matplotlib.figure.Figure at 0x7fb89e16ec50>"
      ]
     },
     "metadata": {},
     "output_type": "display_data"
    }
   ],
   "source": [
    "V = np.zeros((10, 10))\n",
    "alpha = 0.1\n",
    "for _ in range(10**6):\n",
    "    start_state = random_state()\n",
    "    r, states = play_episode(start_state)\n",
    "    d = start_state[0]-1\n",
    "    for s in states:\n",
    "        V[s,d] = V[s,d] + alpha * (r - V[s,d])\n",
    "\n",
    "plot_values(V)   "
   ]
  }
 ],
 "metadata": {
  "anaconda-cloud": {},
  "kernelspec": {
   "display_name": "Python 3",
   "language": "python",
   "name": "python3"
  },
  "language_info": {
   "codemirror_mode": {
    "name": "ipython",
    "version": 3
   },
   "file_extension": ".py",
   "mimetype": "text/x-python",
   "name": "python",
   "nbconvert_exporter": "python",
   "pygments_lexer": "ipython3",
   "version": "3.6.3"
  }
 },
 "nbformat": 4,
 "nbformat_minor": 1
}
