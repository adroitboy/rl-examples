{
 "cells": [
  {
   "cell_type": "markdown",
   "metadata": {},
   "source": [
    "# Gradient Bandit"
   ]
  },
  {
   "cell_type": "code",
   "execution_count": 1,
   "metadata": {
    "collapsed": true
   },
   "outputs": [],
   "source": [
    "import numpy as np\n",
    "import matplotlib.pyplot as plt\n",
    "from matplotlib import rcParams\n",
    "\n",
    "rcParams['figure.figsize'] = 12, 4"
   ]
  },
  {
   "cell_type": "markdown",
   "metadata": {},
   "source": [
    "## Helper functions"
   ]
  },
  {
   "cell_type": "code",
   "execution_count": 2,
   "metadata": {
    "collapsed": false
   },
   "outputs": [
    {
     "data": {
      "image/png": "[encoded data removed]",
      "text/plain": [
       "<matplotlib.figure.Figure at 0x7f940baf9240>"
      ]
     },
     "metadata": {},
     "output_type": "display_data"
    }
   ],
   "source": [
    "class Bandit:\n",
    "    def __init__(self, mean, std):\n",
    "        self.mean = mean\n",
    "        self.std = std\n",
    "        \n",
    "    def roll(self):\n",
    "        return np.random.normal(self.mean, self.std)\n",
    "    \n",
    "\n",
    "def random_bandits(k, max_mean=1.0, max_std=0.1):\n",
    "    bs = []\n",
    "    for _ in range(k):\n",
    "        mean = np.random.uniform(0.0, max_mean)\n",
    "        std = np.random.uniform(0.0, max_std)\n",
    "        bs.append(Bandit(mean, std))\n",
    "    return bs\n",
    "    \n",
    "    \n",
    "def plot_bandits(bs):\n",
    "    x = np.array(np.linspace(1, k, k))\n",
    "    y = [x.mean for x in bandits]\n",
    "    e = [x.std for x in bandits]\n",
    "    plt.errorbar(x, y, e, linestyle='None', marker='o')\n",
    "    plt.show()    \n",
    "    \n",
    "    \n",
    "def moving_average(xs, n=100):\n",
    "    cs = np.cumsum(xs, dtype=float)\n",
    "    cs[n:] = cs[n:] - cs[:-n]\n",
    "    return cs[n - 1:] / n    \n",
    "\n",
    "\n",
    "# Sample bandits\n",
    "k = 10\n",
    "bandits = random_bandits(k)\n",
    "plot_bandits(bandits)"
   ]
  },
  {
   "cell_type": "markdown",
   "metadata": {},
   "source": [
    "## Helper function for agents learning"
   ]
  },
  {
   "cell_type": "code",
   "execution_count": 3,
   "metadata": {
    "collapsed": true
   },
   "outputs": [],
   "source": [
    "class Agent:\n",
    "    \n",
    "    def choose_action(self):\n",
    "        return 0\n",
    "    \n",
    "    def learn(self, action, reward):\n",
    "        pass\n",
    "    \n",
    "    \n",
    "def evaluate(agent, bandits, num_episodes=1000, window=10):\n",
    "    rewards = []\n",
    "    for episode in range(num_episodes):\n",
    "        total_reward = 0\n",
    "        for j in range(100):\n",
    "            a = agent.choose_action()\n",
    "            reward = bandits[a].roll()\n",
    "            agent.learn(a, reward)\n",
    "            total_reward += reward\n",
    "        rewards.append(total_reward/100.0)\n",
    "    return moving_average(rewards, window)"
   ]
  },
  {
   "cell_type": "markdown",
   "metadata": {},
   "source": [
    "# AlphaAgent\n",
    "\n",
    "This agent keeps expected reward for each action."
   ]
  },
  {
   "cell_type": "code",
   "execution_count": 4,
   "metadata": {
    "collapsed": true
   },
   "outputs": [],
   "source": [
    "class AlphaAgent:\n",
    "    \n",
    "    def __init__(self, k=10, epsilon=0.1, alpha=0.1):\n",
    "        self.k = k\n",
    "        self.epsilon = epsilon\n",
    "        self.alpha = alpha\n",
    "        self.Q = np.zeros(k)\n",
    "        \n",
    "    def choose_action(self):\n",
    "        \"\"\"Select random bandit with probability epsilon.\n",
    "           Or best bandit otherwise\n",
    "        \"\"\"\n",
    "        if np.random.rand() < self.epsilon:\n",
    "            return np.random.choice(range(self.k))\n",
    "        else:\n",
    "            return np.argmax(self.Q)\n",
    "        \n",
    "    def learn(self, action, reward):\n",
    "        self.Q[action] = self.Q[action] + self.alpha*(reward-self.Q[action])"
   ]
  },
  {
   "cell_type": "markdown",
   "metadata": {},
   "source": [
    "## GradientAgent\n",
    "\n",
    "This agent uses preference function $H_{t}(a)$ for selecting action\n",
    "\n",
    "The probabilities are calculated using softmax over preference function:\n",
    "\n",
    "$$ Pr\\{A_{t}=a\\} = \\frac{e^{H_{t}(a)}}{\\sum\\limits_{b=1}^{k} e^{H_{t}(b)}} = \\pi_{t}(a)$$\n",
    "\n",
    "What is characteristic is the the value of the preference function doesn't matter. What is important is relative preferences (Thanks to the softmax). So if we add 100 for each action we will end up with the same probabilities."
   ]
  },
  {
   "cell_type": "code",
   "execution_count": 5,
   "metadata": {
    "collapsed": false
   },
   "outputs": [],
   "source": [
    "class GradientAgent:\n",
    "    \n",
    "    def __init__(self, k=10, epsilon=0.1, alpha=0.1):\n",
    "        self.k = k\n",
    "        self.epsilon = epsilon\n",
    "        self.alpha = alpha\n",
    "        self.H = np.zeros(k)\n",
    "        self.Q = np.zeros(k)\n",
    "        \n",
    "    def choose_action(self):\n",
    "        return np.random.choice(self.k, 1, p=self.softmax())[0]\n",
    "        \n",
    "    def learn(self, action, reward):\n",
    "        self.Q[action] = self.Q[action] + 0.1*(reward-self.Q[action])\n",
    "        pi = self.softmax()\n",
    "        for i in range(self.k):\n",
    "            if i == action:\n",
    "                self.H[i] = self.H[i] + self.alpha*(reward-self.Q[i])*(1.0-pi[i])\n",
    "            else:\n",
    "                self.H[i] = self.H[i] - self.alpha*(reward-self.Q[i])*pi[i]\n",
    "        \n",
    "    def softmax(self):\n",
    "        \"Return list of probabilities\"\n",
    "        H_exp = np.exp(self.H)\n",
    "        return H_exp / np.sum(H_exp)"
   ]
  },
  {
   "cell_type": "code",
   "execution_count": 8,
   "metadata": {
    "collapsed": false
   },
   "outputs": [
    {
     "data": {
      "image/png": "[encoded data removed]",
      "text/plain": [
       "<matplotlib.figure.Figure at 0x7f940860cda0>"
      ]
     },
     "metadata": {},
     "output_type": "display_data"
    }
   ],
   "source": [
    "plt.plot(evaluate(AlphaAgent(k), bandits), color='orange')\n",
    "plt.plot(evaluate(GradientAgent(k, alpha=0.1), bandits), color='green')\n",
    "plt.show()"
   ]
  },
  {
   "cell_type": "markdown",
   "metadata": {},
   "source": [
    "The GradientAgent can escpae local maxima and learns better policy."
   ]
  }
 ],
 "metadata": {
  "kernelspec": {
   "display_name": "Python 3",
   "language": "python",
   "name": "python3"
  },
  "language_info": {
   "codemirror_mode": {
    "name": "ipython",
    "version": 3
   },
   "file_extension": ".py",
   "mimetype": "text/x-python",
   "name": "python",
   "nbconvert_exporter": "python",
   "pygments_lexer": "ipython3",
   "version": "3.6.0"
  }
 },
 "nbformat": 4,
 "nbformat_minor": 2
}
