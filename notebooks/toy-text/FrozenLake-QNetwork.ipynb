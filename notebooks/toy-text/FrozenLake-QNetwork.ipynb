{
 "cells": [
  {
   "cell_type": "markdown",
   "metadata": {},
   "source": [
    "# FrozenLake - QLearning using TensorFlow and ANN\n",
    "\n",
    "In QLearning we build ANN which will predict next action based on given state.\n",
    "The network will learn how to map to the correct action using GradientDescent.\n",
    "\n",
    "For this tutorial we will use [Frozen Lake](https://gym.openai.com/envs/FrozenLake-v0)."
   ]
  },
  {
   "cell_type": "code",
   "execution_count": 1,
   "metadata": {
    "collapsed": false
   },
   "outputs": [],
   "source": [
    "import logging\n",
    "import numpy as np\n",
    "import matplotlib.pyplot as plt\n",
    "import gym\n",
    "from gym import wrappers\n",
    "import tensorflow as tf\n",
    "\n",
    "logging.getLogger('gym').setLevel(logging.WARNING)"
   ]
  },
  {
   "cell_type": "markdown",
   "metadata": {},
   "source": [
    "## Helper functions"
   ]
  },
  {
   "cell_type": "code",
   "execution_count": 14,
   "metadata": {
    "collapsed": false
   },
   "outputs": [],
   "source": [
    "# FrozenLake is solved if moving average over window size 100 is >= 0.78\n",
    "def moving_average(xs, n=100):\n",
    "    cs = np.cumsum(xs, dtype=float)\n",
    "    cs[n:] = cs[n:] - cs[:-n]\n",
    "    return cs[n - 1:] / n\n",
    "\n",
    "\n",
    "def find_index(xs, v):\n",
    "    \"\"\"Find index of the first value equal or greater then v\"\"\"\n",
    "    for i in range(len(xs)):\n",
    "        if xs[i] >= v:\n",
    "            return i\n",
    "    return -1\n"
   ]
  },
  {
   "cell_type": "markdown",
   "metadata": {},
   "source": [
    "## QNetwork Agent\n",
    "\n",
    "This agent uses ANN with single layer.\n",
    "The loss function is defined as:\n",
    "\n",
    "$$\\sum_{n=1}^{\\infty}(Q_{next}-Q)^{2}$$"
   ]
  },
  {
   "cell_type": "code",
   "execution_count": 58,
   "metadata": {
    "collapsed": false
   },
   "outputs": [],
   "source": [
    "class QNetworkAgent:\n",
    "    \n",
    "    def __init__(self, num_states, num_actions, learning_rate, gamma):\n",
    "        self.epsilon = 0.99\n",
    "        self.gamma = gamma\n",
    "        self.num_states = num_states\n",
    "        self.num_actions = num_actions\n",
    "        # Placeholders for state\n",
    "        self.state = tf.placeholder(shape=[1, num_states], dtype=tf.float32)\n",
    "        # Calculate Q values for given state\n",
    "        self.W = tf.Variable(tf.random_uniform([num_states, num_actions], 0, 0.01))\n",
    "        self.Q =  tf.matmul(self.state, self.W)\n",
    "        # Select action with the highest score\n",
    "        self.action_op = tf.argmax(self.Q, axis=1)\n",
    "    \n",
    "        # Prepare loss function\n",
    "        # Placeholder for expected rewards\n",
    "        self.Qnext = tf.placeholder(shape=[1, num_actions], dtype=tf.float32)\n",
    "        self.loss = tf.reduce_sum(tf.square(self.Qnext - self.Q))\n",
    "        self.train_op = tf.train.GradientDescentOptimizer(learning_rate).minimize(self.loss)\n",
    "        # Prepare session\n",
    "        self.sess = tf.Session()\n",
    "        self.sess.run(tf.global_variables_initializer())\n",
    "    \n",
    "    \n",
    "    def choose_action(self, state, progress):\n",
    "        if np.random.rand() < self.epsilon * progress:\n",
    "            s = self._encode_state(state)\n",
    "            return self.sess.run(self.action_op, feed_dict={self.state: s})[0]\n",
    "        else:\n",
    "            return np.random.choice(range(self.num_actions))\n",
    "    \n",
    "    \n",
    "    def learn(self, state, action, reward, next_state):\n",
    "        s1 = self._encode_state(state)\n",
    "        s2 = self._encode_state(next_state)\n",
    "        Q_val = self.sess.run(self.Q, feed_dict={self.state: s1})\n",
    "        Qnext_val = self.sess.run(self.Q, feed_dict={self.state: s2})[0]\n",
    "        gradient = abs(Q_val[0, action] - reward + self.gamma * np.max(Qnext_val))\n",
    "        Q_val[0, action] = reward + self.gamma * np.max(Qnext_val)\n",
    "        self.sess.run(self.train_op, feed_dict={self.state: s1, self.Qnext: Q_val})\n",
    "        return gradient\n",
    "    \n",
    "    \n",
    "    def close(self):\n",
    "        \"\"\"It is better to close session.\"\"\"\n",
    "        self.sess.close()\n",
    "        \n",
    "        \n",
    "    def _encode_state(self, state):\n",
    "        \"\"\"1-hot encoding for state\"\"\"\n",
    "        return np.identity(self.num_states)[state:state+1]\n"
   ]
  },
  {
   "cell_type": "markdown",
   "metadata": {},
   "source": [
    "## Train agent"
   ]
  },
  {
   "cell_type": "code",
   "execution_count": 66,
   "metadata": {
    "collapsed": false
   },
   "outputs": [
    {
     "name": "stdout",
     "output_type": "stream",
     "text": [
      "Solved after 9329 episodes\n"
     ]
    },
    {
     "data": {
      "image/png": "[encoded data removed]",
      "text/plain": [
       "<matplotlib.figure.Figure at 0x7fc625edb080>"
      ]
     },
     "metadata": {},
     "output_type": "display_data"
    }
   ],
   "source": [
    "# Learning parameters\n",
    "learning_rate = 0.1\n",
    "gamma = 0.99\n",
    "num_episodes = 10000\n",
    "solved_score = 0.78\n",
    "\n",
    "# Environment\n",
    "env = gym.make('FrozenLake-v0')\n",
    "\n",
    "# Agent\n",
    "agent = QNetworkAgent(env.observation_space.n, env.action_space.n, learning_rate, gamma)\n",
    "\n",
    "# Learn Q-Table\n",
    "rewards = []\n",
    "for episode in range(num_episodes):\n",
    "    s = env.reset()\n",
    "    total_reward = 0\n",
    "    for j in range(1000):\n",
    "        a = agent.choose_action(s, 1.1*episode/float(num_episodes))\n",
    "        s2, reward, done, _ = env.step(a)\n",
    "        agent.learn(s, a, reward, s2)\n",
    "        s = s2\n",
    "        total_reward += reward\n",
    "        if done:\n",
    "            break\n",
    "    rewards.append(total_reward)\n",
    "    \n",
    "env.close()    \n",
    "agent.close()\n",
    "\n",
    "# Show summary\n",
    "averaged_rewards = moving_average(rewards)    \n",
    "idx = find_index(averaged_rewards, solved_score)\n",
    "if idx >= 0:\n",
    "    print('Solved after {} episodes'.format(idx+1))\n",
    "\n",
    "plt.plot(averaged_rewards)\n",
    "plt.show()"
   ]
  }
 ],
 "metadata": {
  "anaconda-cloud": {},
  "kernelspec": {
   "display_name": "Python [default]",
   "language": "python",
   "name": "python3"
  },
  "language_info": {
   "codemirror_mode": {
    "name": "ipython",
    "version": 3
   },
   "file_extension": ".py",
   "mimetype": "text/x-python",
   "name": "python",
   "nbconvert_exporter": "python",
   "pygments_lexer": "ipython3",
   "version": "3.5.2"
  }
 },
 "nbformat": 4,
 "nbformat_minor": 1
}
